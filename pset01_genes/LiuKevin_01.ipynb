{
 "cells": [
  {
   "cell_type": "markdown",
   "id": "d2ba40e8",
   "metadata": {},
   "source": [
    "## Homework 01: The Case of the Dead Sand Mouse\n",
    "###### By Kevin Liu\n",
    "\n",
    "We first start by reading in the two supplemental tables from Moriarty et al. and Adler et al. line-by-line, strip them of the new line characters and whitespaces, and store each of the expression levels as type float in a list as the dictionary values, skipping any comment lines."
   ]
  },
  {
   "cell_type": "code",
   "execution_count": 1,
   "id": "e30b9138",
   "metadata": {},
   "outputs": [],
   "source": [
    "supptbl1 = {} # create empty dictionary to store data from Moriarty et al. \n",
    "# supplementary table 1.\n",
    "for line in open('Moriarty_SuppTable1.txt'): # open file and read line-by-line \n",
    "    # in a for loop.\n",
    "    \n",
    "    if line[0] == '#': continue # if the line is a comment line or header that \n",
    "    # starts with the character '#', skip it.\n",
    "    \n",
    "    line = line.rstrip('\\n') # strip the line of the new line character.\n",
    "    \n",
    "    fields = line.split() # split the line by whitespace, creating a list \n",
    "    # consisting of each of the values in this line (i.e., the fields).\n",
    "    \n",
    "    supptbl1[fields[0]] = [float(s) for s in fields[1:]] # set the first element\n",
    "    # of the list fields (i.e., the gene names) as the dictionary key and set \n",
    "    # the remaining 5 elements as a list of dictionary values.\n",
    "\n",
    "# read in data from Adler et al. supplementary table 2 in a similar way.\n",
    "supptbl2 = {}\n",
    "\n",
    "for line in open('Adler_SuppTable2.txt'):\n",
    "    if line[0] == '#': continue\n",
    "    line = line.rstrip('\\n')\n",
    "    fields = line.split()\n",
    "    supptbl2[fields[0]] = [float(s) for s in fields[1:]]"
   ]
  },
  {
   "cell_type": "markdown",
   "id": "6b9cc22d",
   "metadata": {},
   "source": [
    "### 1. Check that the gene names match"
   ]
  },
  {
   "cell_type": "markdown",
   "id": "c6a64862",
   "metadata": {},
   "source": [
    "Since we know that Adler et al. determined the synthesis rates and half-lives of *all* genes in the prefrontal cortex of the sand mouse, we would expect that the genes found in the dataset by Moriarty et al. are also found in the dataset by Adler et al. Therefore, we check if the gene names match between the two supplementary tables."
   ]
  },
  {
   "cell_type": "code",
   "execution_count": 2,
   "id": "bf49e8e3",
   "metadata": {},
   "outputs": [
    {
     "name": "stdout",
     "output_type": "stream",
     "text": [
      "The gene names in Supplementary Table 1 by Moriarty et al. that are not found in Supplementary Table 2 by Adler et al. are: 15-Sep, 2-Mar, 1-Mar, 10-Sep, 7-Mar, 4-Mar, 2-Sep, 11-Sep, 6-Mar, 11-Mar, 3-Mar, 8-Sep, 7-Sep, 14-Sep, 6-Sep, 1-Dec, 8-Mar, 5-Mar, 9-Mar, 12-Sep, 1-Sep, 4-Sep, 10-Mar, 9-Sep, 5-Sep, 3-Sep.\n"
     ]
    }
   ],
   "source": [
    "notInAlder = [] # create an empty list to hold the gene names that are in \n",
    "# supptbl1 but not supptbl2.\n",
    "\n",
    "# for each gene name (i.e., key of supptbl1) store it in the empty list if it is\n",
    "# not found in supptbl2 keys.\n",
    "for gene in supptbl1.keys():\n",
    "    if gene not in supptbl2.keys():\n",
    "        notInAlder.append(gene)\n",
    "\n",
    "print('The gene names in Supplementary Table 1 by Moriarty et al. that are not \\\n",
    "found in Supplementary Table 2 by Adler et al. are: ' + ', '.join(notInAlder) + \n",
    "'.') # print out those gene names."
   ]
  },
  {
   "cell_type": "code",
   "execution_count": 3,
   "id": "3de7b18d",
   "metadata": {},
   "outputs": [
    {
     "name": "stdout",
     "output_type": "stream",
     "text": [
      "The gene names in Supplementary Table 2 by Adler et al. that are not found in Supplementary Table 1 by Moriarty et al. are: MARC1, SEPT11, MARCH8, SEPT3, MARCH6, SEPT2, SEPT5, MARCH7, MARC2, MARCH3, SEPT4, MARCH5, SEPT7, SEPT10, SEPT14, MARCH10, SEP15, MARCH1, SEPT12, SEPT8, MARCH9, SEPT6, SEPT9, DEC1, MARCH4, MARCH2, MARCH11, SEPT1.\n"
     ]
    }
   ],
   "source": [
    "# we can also examine the gene names found in supptbl2 but not present in \n",
    "# supptbl1.\n",
    "notInMoriarty = [] # create an empty list to hold the gene names that are in \n",
    "# supptbl2 but not supptbl1.\n",
    "\n",
    "# for each gene name (i.e., key of supptbl2), store it in the empty list if it \n",
    "# is not found in supptbl1 keys.\n",
    "for gene in supptbl2.keys():\n",
    "    if gene not in supptbl1.keys():\n",
    "        notInMoriarty.append(gene)\n",
    "\n",
    "print('The gene names in Supplementary Table 2 by Adler et al. that are not \\\n",
    "found in Supplementary Table 1 by Moriarty et al. are: ' + \n",
    "', '.join(notInMoriarty) + '.') # print out those gene names."
   ]
  },
  {
   "cell_type": "markdown",
   "id": "bd8261e6",
   "metadata": {},
   "source": [
    "By comparing the above two outputs, it is apparent that the difference is due to MS Excel erroneously formatting certain gene names that resemble dates as type date and coding them in the format 'D-MMM' in the dataset by Moriarty et al., which results in those converted names being exported as dates that are then falsely interpreted as gene names and caused inconsistency between the two datasets."
   ]
  },
  {
   "cell_type": "markdown",
   "id": "98f83fa5",
   "metadata": {},
   "source": [
    "### 2. Explore the data"
   ]
  },
  {
   "cell_type": "markdown",
   "id": "514fbebd",
   "metadata": {},
   "source": [
    "To examine the consistency of the data from the two supplementary tables, we identify the genes with the top 5 highest synthesis rates, top 5 longest half-lives, and those with the top 5 highest ratio of 96h/0h TPM expression levels. We would expect the genes with longer half-lives to decay slower, which should correspond to higher 96h/0h expression rates as those genes should have decayed less. Furthermore, if Moriarty's theory of post-mortem cortical gene expression is correct, we would also expect that the synthesis rates are high for genes that have high expression ratios at 96h/0h."
   ]
  },
  {
   "cell_type": "code",
   "execution_count": 4,
   "id": "6e01161c",
   "metadata": {},
   "outputs": [
    {
     "name": "stdout",
     "output_type": "stream",
     "text": [
      "The genes with the top 5 highest synthesis rates are: CCDC169-SOHLH2, DDX60L, LRRK1, SLC25A45, FARP1.\n"
     ]
    }
   ],
   "source": [
    "sortedSR = sorted(supptbl2.items(), key = lambda x: x[1][0], reverse = True) #\n",
    "# sort the dictionary items by the synth_rate in descending order.\n",
    "getMaxSR = map(lambda x: x[0], sortedSR[0:5]) # get the gene names (i.e., keys) \n",
    "# of the top 5 genes by synth_rate.\n",
    "print('The genes with the top 5 highest synthesis rates are: ' + \n",
    "', '.join(getMaxSR) + '.')"
   ]
  },
  {
   "cell_type": "code",
   "execution_count": 5,
   "id": "a6996d5f",
   "metadata": {},
   "outputs": [
    {
     "name": "stdout",
     "output_type": "stream",
     "text": [
      "The genes with the top 5 longest half-lives are: TFRC, SPINK8, DIRC1, PLA1A, SAMSN1.\n"
     ]
    }
   ],
   "source": [
    "# do the same as above but using half-life.\n",
    "sortedHL = sorted(supptbl2.items(), key = lambda x: x[1][1], reverse = True)\n",
    "getMaxHL = map(lambda x: x[0], sortedHL[0:5])\n",
    "print('The genes with the top 5 longest half-lives are: ' + ', '.join(getMaxHL) \n",
    "+ '.')"
   ]
  },
  {
   "cell_type": "code",
   "execution_count": 6,
   "id": "59d07e77",
   "metadata": {},
   "outputs": [
    {
     "name": "stdout",
     "output_type": "stream",
     "text": [
      "The genes with the top 5 highest ratio of 96h/0h TPM expression levels are: TFRC, SPINK8, DIRC1, PLA1A, RSPRY1.\n"
     ]
    }
   ],
   "source": [
    "RE = {} # create an empty dictionary to store the ratio of 96h/0h TPM expression \n",
    "# levels.\n",
    "\n",
    "# for each gene in supptbl1, store the gene name as the key in the empty \n",
    "# dictionary and store the ratio of 96h/0h TPM expression levels as the \n",
    "# corresponding value.\n",
    "for gene in supptbl1.keys():\n",
    "    RE[gene] = supptbl1[gene][4]/supptbl1[gene][0]\n",
    "sortedRE = sorted(RE.items(), key = lambda x: x[1], reverse = True) # sort the \n",
    "# resulting dictionary by the values (i.e., expression ratios) in descending \n",
    "# order.\n",
    "getMaxRE = map(lambda x: x[0], sortedRE[0:5]) # get the gene names (i.e., keys) \n",
    "# of the top 5 genes by expression ratio.\n",
    "print('The genes with the top 5 highest ratio of 96h/0h TPM expression levels \\\n",
    "are: ' + ', '.join(getMaxRE) + '.')"
   ]
  },
  {
   "cell_type": "markdown",
   "id": "77c996e1",
   "metadata": {},
   "source": [
    "As expected, the genes with the top 5 longest half-lives identified by Adler et al. mostly correspond to the top 5 genes that have the highest ratio of 96/0h TPM expression identified by Moriarty et al. However, it is interesting to find that none of the top 5 genes with highest synthesis rates are those with longer half-lives and 96h/0h expression ratios."
   ]
  },
  {
   "cell_type": "markdown",
   "id": "f06e1d54",
   "metadata": {},
   "source": [
    "### 3. Figure out what happened"
   ]
  },
  {
   "cell_type": "markdown",
   "id": "5dd0be2a",
   "metadata": {},
   "source": [
    "In an attempt to determine if there are any artifacts or errors in the experiment and interpretation of the results, we calculate the expression ratios at all timepoints relative to t=0h for each gene that are found within both supplementary tables and merge them with the corresponding synthesis rates and half-lives."
   ]
  },
  {
   "cell_type": "code",
   "execution_count": 7,
   "id": "b12a062a",
   "metadata": {},
   "outputs": [],
   "source": [
    "merged = {} # create an empty dictionary to store the expression ratios relative\n",
    "# to t=0h and the corresponding synthesis rates and half lives for that gene.\n",
    "\n",
    "# iterate over each key:value pair in supptbl1, calculate each of the expression \n",
    "# ratios relative to t=0h and append to the empty dictionary one gene at a time \n",
    "# if the gene is present in both supptbl1 and supptbl2.\n",
    "for key in supptbl1.keys():\n",
    "    if key not in notInAlder:\n",
    "        merged[key] = [supptbl1[key][1]/supptbl1[key][0]]\n",
    "        merged[key].append(supptbl1[key][2]/supptbl1[key][0])\n",
    "        merged[key].append(supptbl1[key][3]/supptbl1[key][0])\n",
    "        merged[key].append(supptbl1[key][4]/supptbl1[key][0])\n",
    "    \n",
    "    # if the gene name is also found in supptbl2, append the synthesis rate and \n",
    "    # half-life for that gene in the same list of values as the expression \n",
    "    # ratios.\n",
    "    if key in supptbl2.keys():\n",
    "        merged[key].append(supptbl2[key][0])\n",
    "        merged[key].append(supptbl2[key][1])"
   ]
  },
  {
   "cell_type": "markdown",
   "id": "0d71d965",
   "metadata": {},
   "source": [
    "The merged data can then be written out as a text file for further inspection."
   ]
  },
  {
   "cell_type": "code",
   "execution_count": 8,
   "id": "2f940645",
   "metadata": {},
   "outputs": [],
   "source": [
    "# convert dictionary into a list of lists for easy write out.\n",
    "mergedList = [] # create an empty list to hold lists of data for each gene.\n",
    "\n",
    "# for each key:value pair in merged, append them as a list within mergedList.\n",
    "for key, value in merged.items():\n",
    "    mergedList.append([key] + value)\n",
    "\n",
    "# write out the merged data as a whitespace-delimited, column-justified text\n",
    "# file named 'LiuKevin_01_3.txt' line-by-line.\n",
    "with open('LiuKevin_01_3.txt', 'w') as f:\n",
    "    headerList = ['# gene_name', 'r12h_0h', 'r24h_0h', 'r48h_0h', 'r96h_0h', \n",
    "                  'synth_rate', 'halflife'] # create a list of column names.\n",
    "    headerFormat = '{0:20s} {1:10s} {2:10s} {3:10s} {4:10s} {5:10s} {6:10s}'\n",
    "    f.write(headerFormat.format(*headerList) + '\\n') # write out the headers \n",
    "    # as the first line of the output file, separated by whitespace.\n",
    "    \n",
    "    # for each list of data in mergedList, write them out into the file with \n",
    "    # each field padded by a number of whitespaces.\n",
    "    for i in mergedList:\n",
    "        dataFormat = '{0:20s} {1:<10.3f} {2:<10.3f} {3:<10.3f} {4:<10.3f} ' \\\n",
    "        '{5:<10.3f} {6:<10.3f}'\n",
    "        f.write(dataFormat.format(*i) + '\\n')"
   ]
  },
  {
   "cell_type": "markdown",
   "id": "5d491855",
   "metadata": {},
   "source": [
    "After close inspection of the results we've seen so far, we can identify two main concerns about Moriarty's dataset.\n",
    "\n",
    "First, the automatic formatting of the cells must have erroneously recognized certain gene names as type date from the Supplementary Table 1 data by Moriarty et al. and converted them into 'D-MMM' format when the data was stored in MS Excel. The exported data from MS Excel file would then be written as it is shown in the incorrect 'D-MMM' format, resulting in the gene name inconsistency between the two papers' supplementary tables.\n",
    "\n",
    "Second, the measured expression levels of genes with longer half-lives are most likely inflated relative to those with shorter half-lives, as we would expect genes with shorter half-lives to have been degraded by the time of measurement. This is evident from examining the top 5 genes with the longest half-lives and their corresponding expression ratios relative to t=0h, where genes with larger expression ratios for 96h/0h consistently have longer half-lives. \n",
    "\n",
    "Third, the synthesis rates for the genes with high expression ratios of 96h/0h should be high assuming that Moriarty's findings on post-mortem cortical gene expression is correct. However, we did not see any overlap in genes that have the top 5 highest synthesis rates and the top 5 genes with the highest expression ratios. This suggests that Moriarty's hypothesis is most likely biased due to time progression and half-life of decay in mRNA."
   ]
  }
 ],
 "metadata": {
  "kernelspec": {
   "display_name": "Python 3 (ipykernel)",
   "language": "python",
   "name": "python3"
  },
  "language_info": {
   "codemirror_mode": {
    "name": "ipython",
    "version": 3
   },
   "file_extension": ".py",
   "mimetype": "text/x-python",
   "name": "python",
   "nbconvert_exporter": "python",
   "pygments_lexer": "ipython3",
   "version": "3.9.12"
  },
  "vscode": {
   "interpreter": {
    "hash": "aee8b7b246df8f9039afb4144a1f6fd8d2ca17a180786b69acc140d282b71a49"
   }
  }
 },
 "nbformat": 4,
 "nbformat_minor": 5
}
