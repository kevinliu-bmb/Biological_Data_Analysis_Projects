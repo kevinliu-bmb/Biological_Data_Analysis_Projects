{
 "cells": [
  {
   "cell_type": "markdown",
   "id": "2ad8af74",
   "metadata": {},
   "source": [
    "## Homework 08: The Cycle of Twelve\n",
    "##### By: Kevin Liu"
   ]
  },
  {
   "cell_type": "code",
   "execution_count": 1,
   "id": "72078654",
   "metadata": {},
   "outputs": [],
   "source": [
    "import numpy as np\n",
    "import scipy.stats as stats\n",
    "import scipy.optimize as optimize\n",
    "import matplotlib.pyplot as plt\n",
    "from matplotlib.lines import Line2D\n",
    "import re\n",
    "import os"
   ]
  },
  {
   "cell_type": "markdown",
   "id": "bd364101",
   "metadata": {},
   "source": [
    "### 1. Solve by Maximum Likelihood"
   ]
  },
  {
   "cell_type": "markdown",
   "id": "d6de565e",
   "metadata": {},
   "source": [
    "Given the RNA-seq data and known $\\sigma$, we will use maximum likelihood to solve for the unknown phases $\\phi$.\n",
    "\n",
    "We will first define a series of functions to read in the data, calculate the negative log likelihood of $y_t = b + a * sin( 2\\pi\\omega (t + \\phi))$, identify the parameters that maximize the log likelihood, and display the maximum likelihood estimates $\\hat{a}$, $\\hat{b}$, and $\\hat{\\phi}$ for each gene."
   ]
  },
  {
   "cell_type": "code",
   "execution_count": 2,
   "id": "4e2c3a87",
   "metadata": {},
   "outputs": [],
   "source": [
    "def read_data(datafile):\n",
    "    \"\"\"\n",
    "    Adapted from moriarty.py.\n",
    "    Reads in the data file and returns all data.\n",
    "    \n",
    "    N         : number of experiments (columns in the table).\n",
    "    G         : number of genes (rows in the table).\n",
    "    X[i]      : array of time points, in hrs, for the N experiments.\n",
    "    S_true[i] : array of sigmas for the experiments.\n",
    "    Y[i][t]   : GxN: observed tpm for gene i, time point t.\n",
    "    \"\"\"\n",
    "    with open(datafile) as f:\n",
    "        # First header line gives us the time points\n",
    "        fields = f.readline().split()\n",
    "        X = []\n",
    "        for s in fields:\n",
    "            match = re.search(r\"^(\\d+)hr\", s)\n",
    "            X.append(int(match.group(1)))\n",
    "        X = np.array(X)\n",
    "        N = len(X)\n",
    "\n",
    "        # Second header line gives us \"gene\" followed by +=SD's\n",
    "        fields = f.readline().split()\n",
    "        S_true = np.zeros(N)\n",
    "        for i, s in enumerate(fields[1:]):\n",
    "            match = re.search(r\"^\\+-(\\d+)\", s)\n",
    "            S_true[i] = float(match.group(1))\n",
    "\n",
    "        # Third header line is just ------ stuff\n",
    "        f.readline()\n",
    "\n",
    "        # Remaining lines are data\n",
    "        genenames = []\n",
    "        Y = []\n",
    "        for line in f.readlines():\n",
    "            fields = line.split()\n",
    "            genenames.append(fields[0])\n",
    "            Y.append(np.array([float(s) for s in fields[1:]]))\n",
    "        G = len(Y)\n",
    "        \n",
    "    return genenames, G, X, S_true, Y\n",
    "\n",
    "\n",
    "def calc_y_hat(a, b, phi, timePoint):\n",
    "    \"\"\"\n",
    "    Calculates point estimate y_hat of gene expression.\n",
    "    \"\"\"\n",
    "    return b + a*np.sin(2*np.pi*(1/24)*(timePoint+phi))\n",
    "\n",
    "\n",
    "def nll(p, data, sigmas, timePoints):\n",
    "    \"\"\"\n",
    "    Calculates the negative log-likelihood given model parameters, data, and respective sigmas and timepoints.\n",
    "    \"\"\"\n",
    "    residuals = [x - calc_y_hat(*p, timePoint) for x, timePoint in zip(data, timePoints)]\n",
    "    nll = -sum([stats.norm.logpdf(residual, 0, sigma) for residual, sigma in zip(residuals, sigmas)])\n",
    "             \n",
    "    return nll\n",
    "\n",
    "\n",
    "def maxll(data, sigmas, timePoints, n_runs):\n",
    "    \"\"\"\n",
    "    Fits the data with sigmas and timepoints to a maximum likelihood model by minimizing the negative \n",
    "    log-likelihood.\n",
    "    Returns the model parameters per gene and negative log-likelihoods.\n",
    "    \"\"\"\n",
    "    data_arr = np.asarray(data)\n",
    "    opt_p_lst = []\n",
    "    opt_f_lst = []\n",
    "    for i in range(data_arr.shape[0]):\n",
    "        opt_f = -1\n",
    "        opt_p = -1\n",
    "        for j in range(n_runs):\n",
    "            x0 = np.array([np.random.uniform(0, 100), np.random.uniform(0, 100), np.random.uniform(0, 24)])\n",
    "            bnd = [(0.0, None), (0.0, None), (None, None)]\n",
    "            result = optimize.minimize(nll, x0, (data_arr[i], sigmas, timePoints), bounds = bnd)\n",
    "\n",
    "            if result.fun < opt_f or opt_f == -1:\n",
    "                result.x[2] = result.x[2]%24\n",
    "                opt_f = result.fun\n",
    "                opt_p = result.x\n",
    "\n",
    "        opt_p_lst.append(opt_p)\n",
    "        opt_f_lst.append(opt_f)\n",
    "\n",
    "    return opt_p_lst, opt_f_lst\n",
    "\n",
    "\n",
    "def print_p(p, genenames, G):\n",
    "    \"\"\"\n",
    "    Prints out the model parameters per gene.\n",
    "    \"\"\"\n",
    "    print(\"{0:12s} {1:>6s} {2:>6s} {3:>6s}\".format(\"genename\", \"a\", \"b\", \"p\"))\n",
    "    print(\"{0:12s} {1:6s} {2:6s} {3:6s}\".format(\"-\"*12, \"-\"*6, \"-\"*6, \"-\"*6))\n",
    "    for g in range(G):\n",
    "        print(\"{0:12s} {1:6.2f} {2:6.2f} {3:6.2f}\".format(genenames[g], p[g][0], p[g][1], p[g][2]))\n",
    "    print()"
   ]
  },
  {
   "cell_type": "markdown",
   "id": "dc91a1d3",
   "metadata": {},
   "source": [
    "After defining our functions, we can finally read in the data, calculate the optimal parameters for our gene expression data using our maximum likelihood model, and display the estimated model parameters $\\hat{a}$, $\\hat{b}$, and $\\hat{\\phi}$ for each gene."
   ]
  },
  {
   "cell_type": "code",
   "execution_count": 3,
   "id": "e51d9470",
   "metadata": {},
   "outputs": [
    {
     "name": "stdout",
     "output_type": "stream",
     "text": [
      "Maximum likelihood estimates:\n",
      "genename          a      b      p\n",
      "------------ ------ ------ ------\n",
      "anise         22.42  39.99   0.45\n",
      "kiwi          31.84  48.84  16.26\n",
      "carrot        24.23  47.58  21.41\n",
      "grape         32.33  44.90  20.42\n",
      "tangerine     22.15  42.76   2.78\n",
      "melon         19.10  51.26   6.69\n",
      "clementine    27.60  48.02  10.16\n",
      "spinach       18.40  49.73  14.27\n",
      "beet          30.61  40.85   7.42\n",
      "huckleberry   21.58  45.99  11.47\n",
      "lentil        17.32  53.06   3.48\n",
      "cauliflower   27.48  39.12  17.95\n",
      "\n"
     ]
    }
   ],
   "source": [
    "geneNames, G, timePoints, sigmas, data = read_data(\"w08-data.tbl\")\n",
    "\n",
    "ML_p_lst, ML_nll_lst = maxll(data, sigmas, timePoints, n_runs = 10)\n",
    "    \n",
    "print(\"Maximum likelihood estimates:\")\n",
    "print_p(ML_p_lst, geneNames, G)"
   ]
  },
  {
   "cell_type": "markdown",
   "id": "4321c026",
   "metadata": {},
   "source": [
    "As displayed above, we have estimated the $\\hat{a}$, $\\hat{b}$, and $\\hat{\\phi}$ for each gene using maximum likelihood."
   ]
  },
  {
   "cell_type": "markdown",
   "id": "85f962d9",
   "metadata": {},
   "source": [
    "### 2. Compare Solutions"
   ]
  },
  {
   "cell_type": "markdown",
   "id": "6e783837",
   "metadata": {},
   "source": [
    "Now that we have obtained our estimated parameters using a maximum likelihood model, we will compare how well our maximum likelihood model performs relative to Moriaty's harmonic regression model in fitting a line to the gene expression data.\n",
    "\n",
    "We will first run Moriarty's Python script ```moriarty.py``` and read in the estimated parameters. Then, we will use the resulting estimated parameters to calculate the associated negative log-likelihoods and use it to calculate a likelihood ratio relative to our maximum likelihood model fit."
   ]
  },
  {
   "cell_type": "code",
   "execution_count": 4,
   "id": "4bcf32e3",
   "metadata": {},
   "outputs": [
    {
     "name": "stdout",
     "output_type": "stream",
     "text": [
      "Maximum likelihood estimates:\n",
      "genename          a      b      p\n",
      "------------ ------ ------ ------\n",
      "anise         22.42  39.99   0.45\n",
      "kiwi          31.84  48.84  16.26\n",
      "carrot        24.23  47.58  21.41\n",
      "grape         32.33  44.90  20.42\n",
      "tangerine     22.15  42.76   2.78\n",
      "melon         19.10  51.26   6.69\n",
      "clementine    27.60  48.02  10.16\n",
      "spinach       18.40  49.73  14.27\n",
      "beet          30.61  40.85   7.42\n",
      "huckleberry   21.58  45.99  11.47\n",
      "lentil        17.32  53.06   3.48\n",
      "cauliflower   27.48  39.12  17.95\n",
      "\n",
      "Moriarty's harmonic regression estimates:\n",
      "genename          a      b      p\n",
      "------------ ------ ------ ------\n",
      "anise         15.67  48.56   0.61\n",
      "kiwi          33.46  52.70  15.58\n",
      "carrot        26.08  46.91  21.33\n",
      "grape         30.17  41.68  20.21\n",
      "tangerine     22.96  47.54   2.60\n",
      "melon         27.44  46.48   8.16\n",
      "clementine    18.32  42.09   9.36\n",
      "spinach       14.39  51.88  14.26\n",
      "beet          35.66  43.13   6.48\n",
      "huckleberry   28.94  45.05  10.85\n",
      "lentil        18.14  56.20   0.85\n",
      "cauliflower   35.30  39.43  18.72\n",
      "\n",
      "Maximum likelihood total negative log-likelihood: 311.73\n",
      "Moriarty's harmonic regression total negative log-likelihood: 445.86\n",
      "Our maximum likelihood fit parameters are 1.79e+58 times as likely as Moriarty's harmonic regression parameters.\n"
     ]
    }
   ],
   "source": [
    "m_lines = os.popen(\"./moriarty.py w08-data.tbl\").readlines()[2:]\n",
    "\n",
    "OLS_p_lst = []\n",
    "for line in m_lines: \n",
    "    line = line.strip(\"\\n\").split()\n",
    "    line = [float(i) for i in line[1:]]\n",
    "    line[0], line[1] = line[1], line[0]\n",
    "    OLS_p_lst.append(line)\n",
    "\n",
    "OLS_nll_lst = []\n",
    "for i, p in enumerate(OLS_p_lst):\n",
    "    OLS_nll = nll(p, data[i], sigmas, timePoints)\n",
    "    OLS_nll_lst.append(OLS_nll)\n",
    "    \n",
    "print(\"Maximum likelihood estimates:\")\n",
    "print_p(ML_p_lst, geneNames, G)\n",
    "print(\"Moriarty's harmonic regression estimates:\")\n",
    "print_p(OLS_p_lst, geneNames, G)\n",
    "ML_tot_nll = sum(ML_nll_lst)\n",
    "OLS_tot_nll = sum(OLS_nll_lst)\n",
    "print(\"Maximum likelihood total negative log-likelihood: \" + str(np.round(ML_tot_nll, 2)))\n",
    "print(\"Moriarty's harmonic regression total negative log-likelihood: \" + str(np.round(OLS_tot_nll, 2)))\n",
    "print(\"Our maximum likelihood fit parameters are {:.3} times as likely as Moriarty's harmonic regression \\\n",
    "parameters.\".format(np.exp(-ML_tot_nll)/np.exp(-OLS_tot_nll)))"
   ]
  },
  {
   "cell_type": "markdown",
   "id": "b04339de",
   "metadata": {},
   "source": [
    "Based on the above results, we can conclude that our maximum likelihood model is 1.79e+58 times as likely as Moriarty's harmonic regression model. If Moriarty offered us even odds on his bet, we should take it since our maximum likelihood model has a significant edge over that of Moriarty's harmonic regression model."
   ]
  },
  {
   "cell_type": "markdown",
   "id": "3ab5ebc4",
   "metadata": {},
   "source": [
    "### 3. Plot the Fits"
   ]
  },
  {
   "cell_type": "markdown",
   "id": "9550d1dc",
   "metadata": {},
   "source": [
    "To examine the model fits of both models, we will visualize the gene expression data using our respective model parameters and display how Moriarty's model is less likely than our maximum likelihood model."
   ]
  },
  {
   "cell_type": "code",
   "execution_count": null,
   "id": "bc791ad9",
   "metadata": {},
   "outputs": [],
   "source": [
    "x_scale = np.arange(0, 24, 0.1)\n",
    "\n",
    "fig, axs = plt.subplots(3, 4, figsize = (20, 10))\n",
    "for i, ax in enumerate(axs.flat):\n",
    "    ax.plot(x_scale, [calc_y_hat(*ML_p_lst[i], x) for x in x_scale], color=\"tab:blue\", linewidth=2, alpha=0.75)\n",
    "    ax.plot(x_scale, [calc_y_hat(*OLS_p_lst[i], x) for x in x_scale], color=\"tab:orange\", linewidth=2, alpha=0.75)\n",
    "    for j, x in enumerate(data[i]):\n",
    "        ax.scatter(timePoints[j], x, c={2:\"g\", 5:\"y\", 20:\"r\"}[sigmas[j]], s=50)\n",
    "    ax.set_title(geneNames[i])\n",
    "    ax.set_xlabel(\"Time (Hours)\")\n",
    "    ax.set_ylabel(\"Expression Level (TPM)\")\n",
    "\n",
    "lgnd = [Line2D([0], [0], color=\"tab:blue\", lw=2, label=\"Maximum Likelihood\"),\n",
    "        Line2D([0], [0], color=\"tab:orange\", lw=2, label=\"Harmonic Regression\"),\n",
    "        Line2D([0], [0], marker=\"o\", color=\"w\", label=\"$\\sigma$ = 2\", markerfacecolor=\"g\", markersize=10),\n",
    "        Line2D([0], [0], marker=\"o\", color=\"w\", label=\"$\\sigma$ = 5\", markerfacecolor=\"y\", markersize=10),\n",
    "        Line2D([0], [0], marker=\"o\", color=\"w\", label=\"$\\sigma$ = 20\", markerfacecolor=\"r\", markersize=10)]\n",
    "\n",
    "fig.legend(handles=lgnd, bbox_to_anchor=(0.5, -0.01))\n",
    "plt.tight_layout()"
   ]
  },
  {
   "cell_type": "markdown",
   "id": "7f204ccc",
   "metadata": {},
   "source": [
    "Based on the above plots, it is apparent that our maximum likelihood model fit line is closer to the data points with lower vairance (i.e., the green and yellow data points) and is less influenced by those with high variance when compared to that of Moriarty's harmonic regression model.\n",
    "\n",
    "Given the results of Moriarty's harmonic regression model, we can conclude that the number of standard deviations contained within the residual is of greater significance in fitting the data than the size of the residuals."
   ]
  }
 ],
 "metadata": {
  "kernelspec": {
   "display_name": "Python 3 (ipykernel)",
   "language": "python",
   "name": "python3"
  },
  "language_info": {
   "codemirror_mode": {
    "name": "ipython",
    "version": 3
   },
   "file_extension": ".py",
   "mimetype": "text/x-python",
   "name": "python",
   "nbconvert_exporter": "python",
   "pygments_lexer": "ipython3",
   "version": "3.9.12"
  }
 },
 "nbformat": 4,
 "nbformat_minor": 5
}
